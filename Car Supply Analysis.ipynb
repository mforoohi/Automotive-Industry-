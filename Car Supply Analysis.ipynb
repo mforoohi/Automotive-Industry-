{
 "cells": [
  {
   "cell_type": "markdown",
   "id": "f33912a9",
   "metadata": {},
   "source": [
    "## Import Dependencies"
   ]
  },
  {
   "cell_type": "code",
   "execution_count": 2,
   "id": "3b422fda",
   "metadata": {},
   "outputs": [],
   "source": [
    "import pandas as pd\n",
    "import matplotlib.pyplot as plt\n",
    "from scipy.stats import linregress\n",
    "import scipy.stats"
   ]
  },
  {
   "cell_type": "markdown",
   "id": "237aca7b",
   "metadata": {},
   "source": [
    "## Analysis"
   ]
  },
  {
   "cell_type": "code",
   "execution_count": 3,
   "id": "c3c28d5c",
   "metadata": {},
   "outputs": [],
   "source": [
    "### File Path and Read Files ###\n",
    "annual_car_prod = pd.read_csv(\"../csv/Annual_Car_Production.csv\")\n",
    "car_prod_2021 = pd.read_csv(\"../csv/Car_Production_from_jul2020_jun2021.csv\", parse_dates=['Date'])\n",
    "infection_rate = pd.read_csv(\"../csv/Infection_rate.csv\")"
   ]
  },
  {
   "cell_type": "code",
   "execution_count": 4,
   "id": "69ce3492",
   "metadata": {
    "scrolled": false
   },
   "outputs": [
    {
     "data": {
      "text/html": [
       "<div>\n",
       "<style scoped>\n",
       "    .dataframe tbody tr th:only-of-type {\n",
       "        vertical-align: middle;\n",
       "    }\n",
       "\n",
       "    .dataframe tbody tr th {\n",
       "        vertical-align: top;\n",
       "    }\n",
       "\n",
       "    .dataframe thead th {\n",
       "        text-align: right;\n",
       "    }\n",
       "</style>\n",
       "<table border=\"1\" class=\"dataframe\">\n",
       "  <thead>\n",
       "    <tr style=\"text-align: right;\">\n",
       "      <th></th>\n",
       "      <th>Year</th>\n",
       "      <th>Total Production</th>\n",
       "      <th>Total Production Passenger Cars</th>\n",
       "      <th>Total Production Commercial Vehicles</th>\n",
       "      <th>Total Domestic Sales</th>\n",
       "      <th>Total Domestic Sales Passenger cars</th>\n",
       "      <th>Total Domestic Sales Commercial Vehicles</th>\n",
       "    </tr>\n",
       "  </thead>\n",
       "  <tbody>\n",
       "    <tr>\n",
       "      <th>0</th>\n",
       "      <td>1960</td>\n",
       "      <td>7894.220</td>\n",
       "      <td>6696.108</td>\n",
       "      <td>1198.112</td>\n",
       "      <td>NaN</td>\n",
       "      <td>NaN</td>\n",
       "      <td>NaN</td>\n",
       "    </tr>\n",
       "    <tr>\n",
       "      <th>1</th>\n",
       "      <td>1965</td>\n",
       "      <td>11114.213</td>\n",
       "      <td>9329.104</td>\n",
       "      <td>1785.109</td>\n",
       "      <td>10302.000</td>\n",
       "      <td>8763.000</td>\n",
       "      <td>1539.000</td>\n",
       "    </tr>\n",
       "    <tr>\n",
       "      <th>2</th>\n",
       "      <td>1970</td>\n",
       "      <td>8262.657</td>\n",
       "      <td>6545.908</td>\n",
       "      <td>1716.749</td>\n",
       "      <td>8849.335</td>\n",
       "      <td>7112.067</td>\n",
       "      <td>1737.268</td>\n",
       "    </tr>\n",
       "    <tr>\n",
       "      <th>3</th>\n",
       "      <td>1975</td>\n",
       "      <td>8965.413</td>\n",
       "      <td>6705.837</td>\n",
       "      <td>2259.576</td>\n",
       "      <td>9298.315</td>\n",
       "      <td>6945.034</td>\n",
       "      <td>2353.281</td>\n",
       "    </tr>\n",
       "    <tr>\n",
       "      <th>4</th>\n",
       "      <td>1980</td>\n",
       "      <td>8010.563</td>\n",
       "      <td>6372.304</td>\n",
       "      <td>1638.259</td>\n",
       "      <td>8594.487</td>\n",
       "      <td>6579.778</td>\n",
       "      <td>2014.709</td>\n",
       "    </tr>\n",
       "  </tbody>\n",
       "</table>\n",
       "</div>"
      ],
      "text/plain": [
       "   Year  Total Production  Total Production Passenger Cars  \\\n",
       "0  1960          7894.220                         6696.108   \n",
       "1  1965         11114.213                         9329.104   \n",
       "2  1970          8262.657                         6545.908   \n",
       "3  1975          8965.413                         6705.837   \n",
       "4  1980          8010.563                         6372.304   \n",
       "\n",
       "   Total Production Commercial Vehicles  Total Domestic Sales  \\\n",
       "0                              1198.112                   NaN   \n",
       "1                              1785.109             10302.000   \n",
       "2                              1716.749              8849.335   \n",
       "3                              2259.576              9298.315   \n",
       "4                              1638.259              8594.487   \n",
       "\n",
       "   Total Domestic Sales Passenger cars  \\\n",
       "0                                  NaN   \n",
       "1                             8763.000   \n",
       "2                             7112.067   \n",
       "3                             6945.034   \n",
       "4                             6579.778   \n",
       "\n",
       "   Total Domestic Sales Commercial Vehicles  \n",
       "0                                       NaN  \n",
       "1                                  1539.000  \n",
       "2                                  1737.268  \n",
       "3                                  2353.281  \n",
       "4                                  2014.709  "
      ]
     },
     "execution_count": 4,
     "metadata": {},
     "output_type": "execute_result"
    }
   ],
   "source": [
    "annual_car_prod.head()"
   ]
  },
  {
   "cell_type": "code",
   "execution_count": 5,
   "id": "444e5353",
   "metadata": {},
   "outputs": [
    {
     "data": {
      "image/png": "[encoded data removed]",
      "text/plain": [
       "<Figure size 432x288 with 1 Axes>"
      ]
     },
     "metadata": {
      "needs_background": "light"
     },
     "output_type": "display_data"
    }
   ],
   "source": [
    "### Annual Car Production Line Plot ###\n",
    "x = annual_car_prod['Year']\n",
    "y = annual_car_prod['Total Production Passenger Cars']\n",
    "plt.plot(x,y)\n",
    "plt.xlabel(\"Year\")\n",
    "plt.ylabel(\"Total Passenger Cars Produced (thousands)\")\n",
    "plt.title(\"Annual Production of Passenger Cars\")\n",
    "#plt.savefig(\"../Visualizations/Annual_Car_Production.png\")\n",
    "plt.show()"
   ]
  },
  {
   "cell_type": "code",
   "execution_count": 7,
   "id": "c8d5408a",
   "metadata": {},
   "outputs": [
    {
     "data": {
      "text/html": [
       "<div>\n",
       "<style scoped>\n",
       "    .dataframe tbody tr th:only-of-type {\n",
       "        vertical-align: middle;\n",
       "    }\n",
       "\n",
       "    .dataframe tbody tr th {\n",
       "        vertical-align: top;\n",
       "    }\n",
       "\n",
       "    .dataframe thead th {\n",
       "        text-align: right;\n",
       "    }\n",
       "</style>\n",
       "<table border=\"1\" class=\"dataframe\">\n",
       "  <thead>\n",
       "    <tr style=\"text-align: right;\">\n",
       "      <th></th>\n",
       "      <th>Date</th>\n",
       "      <th>Cars Produced (million units)</th>\n",
       "    </tr>\n",
       "  </thead>\n",
       "  <tbody>\n",
       "    <tr>\n",
       "      <th>0</th>\n",
       "      <td>2020-07-01</td>\n",
       "      <td>2.6283</td>\n",
       "    </tr>\n",
       "    <tr>\n",
       "      <th>1</th>\n",
       "      <td>2020-08-01</td>\n",
       "      <td>2.4886</td>\n",
       "    </tr>\n",
       "    <tr>\n",
       "      <th>2</th>\n",
       "      <td>2020-09-01</td>\n",
       "      <td>2.3169</td>\n",
       "    </tr>\n",
       "    <tr>\n",
       "      <th>3</th>\n",
       "      <td>2020-10-01</td>\n",
       "      <td>2.2206</td>\n",
       "    </tr>\n",
       "    <tr>\n",
       "      <th>4</th>\n",
       "      <td>2020-11-01</td>\n",
       "      <td>2.2530</td>\n",
       "    </tr>\n",
       "  </tbody>\n",
       "</table>\n",
       "</div>"
      ],
      "text/plain": [
       "        Date  Cars Produced (million units)\n",
       "0 2020-07-01                         2.6283\n",
       "1 2020-08-01                         2.4886\n",
       "2 2020-09-01                         2.3169\n",
       "3 2020-10-01                         2.2206\n",
       "4 2020-11-01                         2.2530"
      ]
     },
     "execution_count": 7,
     "metadata": {},
     "output_type": "execute_result"
    }
   ],
   "source": [
    "car_prod_2021.head()"
   ]
  },
  {
   "cell_type": "code",
   "execution_count": 6,
   "id": "4d2bc6eb",
   "metadata": {
    "scrolled": true
   },
   "outputs": [
    {
     "data": {
      "image/png": "[encoded data removed]",
      "text/plain": [
       "<Figure size 432x288 with 1 Axes>"
      ]
     },
     "metadata": {
      "needs_background": "light"
     },
     "output_type": "display_data"
    }
   ],
   "source": [
    "### Car Production 2020-2021 Line Plot ###\n",
    "x = car_prod_2021['Date']\n",
    "y = car_prod_2021['Cars Produced (million units)']\n",
    "plt.plot(x,y)\n",
    "plt.xlabel(\"Date\")\n",
    "plt.ylabel(\"Cars Produced (million units)\")\n",
    "plt.title(\"Cars Produced from July 2020 - June 2021\")\n",
    "plt.savefig(\"../Visualizations/COVID_Car_Production.png\")\n",
    "plt.show()"
   ]
  }
 ],
 "metadata": {
  "kernelspec": {
   "display_name": "Python 3",
   "language": "python",
   "name": "python3"
  },
  "language_info": {
   "codemirror_mode": {
    "name": "ipython",
    "version": 3
   },
   "file_extension": ".py",
   "mimetype": "text/x-python",
   "name": "python",
   "nbconvert_exporter": "python",
   "pygments_lexer": "ipython3",
   "version": "3.8.8"
  }
 },
 "nbformat": 4,
 "nbformat_minor": 5
}
